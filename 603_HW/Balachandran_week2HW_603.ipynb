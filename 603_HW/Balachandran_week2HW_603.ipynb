{
 "cells": [
  {
   "cell_type": "code",
   "execution_count": 5,
   "id": "ba93ef19-20f6-4bcf-81d9-ab23c4df7eca",
   "metadata": {},
   "outputs": [
    {
     "name": "stdout",
     "output_type": "stream",
     "text": [
      "Collecting pyspellchecker\n",
      "  Downloading pyspellchecker-0.8.3-py3-none-any.whl.metadata (9.5 kB)\n",
      "Downloading pyspellchecker-0.8.3-py3-none-any.whl (7.2 MB)\n",
      "\u001b[2K   \u001b[90m━━━━━━━━━━━━━━━━━━━━━━━━━━━━━━━━━━━━━━━━\u001b[0m \u001b[32m7.2/7.2 MB\u001b[0m \u001b[31m2.4 MB/s\u001b[0m eta \u001b[36m0:00:00\u001b[0ma \u001b[36m0:00:01\u001b[0m\n",
      "Installing collected packages: pyspellchecker\n",
      "Successfully installed pyspellchecker-0.8.3\n"
     ]
    }
   ],
   "source": [
    "!pip install pyspellchecker\n",
    "\n"
   ]
  },
  {
   "cell_type": "code",
   "execution_count": 10,
   "id": "2d60ccdf-052b-46a7-a841-9caf0a4ca1bd",
   "metadata": {},
   "outputs": [
    {
     "name": "stdout",
     "output_type": "stream",
     "text": [
      "File1 length: 3236 words\n",
      "File2 length: 2667 words\n"
     ]
    }
   ],
   "source": [
    "# Load file1.txt\n",
    "with open(\"file1.txt\", \"r\", encoding=\"utf-8\") as f:\n",
    "    file1_text = f.read()\n",
    "\n",
    "# Load file2.txt\n",
    "with open(\"file2.txt\", \"r\", encoding=\"utf-8\") as f:\n",
    "    file2_text = f.read()\n",
    "\n",
    "print(\"File1 length:\", len(file1_text.split()), \"words\")\n",
    "print(\"File2 length:\", len(file2_text.split()), \"words\")\n"
   ]
  },
  {
   "cell_type": "code",
   "execution_count": 12,
   "id": "347d5ac2-c5d3-477e-b123-c18b1b5c0fc0",
   "metadata": {},
   "outputs": [
    {
     "name": "stdout",
     "output_type": "stream",
     "text": [
      "Top 20 words in file1.txt:\n",
      "the: 131\n",
      "he: 90\n",
      "and: 70\n",
      "a: 68\n",
      "it: 65\n",
      "to: 64\n",
      "was: 53\n",
      "of: 46\n",
      "i: 45\n",
      "you: 43\n",
      "s: 41\n",
      "his: 41\n",
      "t: 39\n",
      "dumbledore: 37\n",
      "in: 36\n",
      "that: 35\n",
      "on: 34\n",
      "as: 33\n",
      "professor: 30\n",
      "said: 29\n"
     ]
    }
   ],
   "source": [
    "#date of bith : 16 july 2002\n",
    "import re\n",
    "from collections import Counter\n",
    "\n",
    "# Tokenize words\n",
    "words_file1 = re.findall(r\"[a-zA-Z]+\", file1_text.lower())\n",
    "\n",
    "# Count frequencies\n",
    "word_counts_file1 = Counter(words_file1)\n",
    "\n",
    "# Show top 20 most common words\n",
    "print(\"Top 20 words in file1.txt:\")\n",
    "for word, count in word_counts_file1.most_common(20):\n",
    "    print(f\"{word}: {count}\")\n"
   ]
  },
  {
   "cell_type": "code",
   "execution_count": 14,
   "id": "b89a0a2a-6bb8-4376-968e-26daeff9942c",
   "metadata": {},
   "outputs": [
    {
     "name": "stdout",
     "output_type": "stream",
     "text": [
      "Top 20 non-English words in file2.txt:\n",
      "hagrid: 12\n",
      "mcgonagall: 10\n",
      "malfoy: 8\n",
      "hermione: 7\n",
      "goyle: 7\n",
      "ll: 7\n",
      "didn: 6\n",
      "ve: 6\n",
      "scabbers: 6\n",
      "hufflepuff: 3\n",
      "diagon: 2\n",
      "weasleys: 2\n",
      "dursleys: 2\n",
      "gryffindor: 2\n",
      "ravenclaw: 2\n",
      "slytherin: 2\n",
      "wasn: 1\n",
      "toadless: 1\n",
      "malkin: 1\n",
      "wizarding: 1\n"
     ]
    }
   ],
   "source": [
    "from spellchecker import SpellChecker\n",
    "\n",
    "# Initialize spell checker\n",
    "spell = SpellChecker(language=\"en\")\n",
    "\n",
    "# Tokenize words\n",
    "words_file2 = re.findall(r\"[a-zA-Z]+\", file2_text.lower())\n",
    "\n",
    "# Find non-English words\n",
    "non_english_counts = Counter()\n",
    "\n",
    "for word in words_file2:\n",
    "    if word not in spell:  # not an English dictionary word\n",
    "        non_english_counts[word] += 1\n",
    "\n",
    "# Show top 20 non-English words\n",
    "print(\"Top 20 non-English words in file2.txt:\")\n",
    "for word, count in non_english_counts.most_common(20):\n",
    "    print(f\"{word}: {count}\")\n"
   ]
  },
  {
   "cell_type": "code",
   "execution_count": null,
   "id": "5d45ee0c-05e0-48da-97f2-a1e0cd57829f",
   "metadata": {},
   "outputs": [],
   "source": []
  }
 ],
 "metadata": {
  "kernelspec": {
   "display_name": "Python [conda env:base] *",
   "language": "python",
   "name": "conda-base-py"
  },
  "language_info": {
   "codemirror_mode": {
    "name": "ipython",
    "version": 3
   },
   "file_extension": ".py",
   "mimetype": "text/x-python",
   "name": "python",
   "nbconvert_exporter": "python",
   "pygments_lexer": "ipython3",
   "version": "3.12.7"
  }
 },
 "nbformat": 4,
 "nbformat_minor": 5
}
